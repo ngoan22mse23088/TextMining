{
  "nbformat": 4,
  "nbformat_minor": 0,
  "metadata": {
    "colab": {
      "provenance": [],
      "authorship_tag": "ABX9TyOaUASpuK/FoBXXU0Fm51tg",
      "include_colab_link": true
    },
    "kernelspec": {
      "name": "python3",
      "display_name": "Python 3"
    },
    "language_info": {
      "name": "python"
    }
  },
  "cells": [
    {
      "cell_type": "markdown",
      "metadata": {
        "id": "view-in-github",
        "colab_type": "text"
      },
      "source": [
        "<a href=\"https://colab.research.google.com/github/ngoan22mse23088/TextMining/blob/master/Assignment_3.ipynb\" target=\"_parent\"><img src=\"https://colab.research.google.com/assets/colab-badge.svg\" alt=\"Open In Colab\"/></a>"
      ]
    },
    {
      "cell_type": "markdown",
      "source": [
        "# Introduction\n",
        "\n",
        "#### Name: Lê Chí Ngoan</br>\n",
        "#### Class: MSE#12HCM </br>\n",
        "#### Student Id: 22MSE23088 </br>\n",
        "#### Email: ngoan22mse23088@fsb.edu.vn\n",
        "\n",
        "### **Problem Statement**: </br>\n",
        "◑ Write programs to process the Brown Corpus and find answers to the following\n",
        "questions:\n",
        "a. Which nouns are more common in their plural form, rather than their singular\n",
        "form? (Only consider regular plurals, formed with the -s suffix.)</br>\n",
        "b. Which word has the greatest number of distinct tags? What are they, and what\n",
        "do they represent?</br>\n",
        "c. List tags in order of decreasing frequency. What do the 20 most frequent tags\n",
        "represent?</br>\n",
        "d. Which tags are nouns most commonly found after? What do these tags\n",
        "represent?</br>"
      ],
      "metadata": {
        "id": "relNCdyxrqMy"
      }
    }
  ]
}