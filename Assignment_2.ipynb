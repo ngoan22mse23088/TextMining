{
  "nbformat": 4,
  "nbformat_minor": 0,
  "metadata": {
    "colab": {
      "provenance": [],
      "authorship_tag": "ABX9TyMmQK9PvkVXawuwgP8yR3+X",
      "include_colab_link": true
    },
    "kernelspec": {
      "name": "python3",
      "display_name": "Python 3"
    },
    "language_info": {
      "name": "python"
    }
  },
  "cells": [
    {
      "cell_type": "markdown",
      "metadata": {
        "id": "view-in-github",
        "colab_type": "text"
      },
      "source": [
        "<a href=\"https://colab.research.google.com/github/ngoan22mse23088/TextMining/blob/master/Assignment_2.ipynb\" target=\"_parent\"><img src=\"https://colab.research.google.com/assets/colab-badge.svg\" alt=\"Open In Colab\"/></a>"
      ]
    },
    {
      "cell_type": "markdown",
      "source": [
        "# Introduction\n",
        "\n",
        "#### Name: Lê Chí Ngoan</br>\n",
        "#### Class: MSE#12HCM </br>\n",
        "#### Student Id: 22MSE23088 </br>\n",
        "#### Email: ngoan22mse23088@fsb.edu.vn\n",
        "\n",
        "### **Problem Statement**: </br>\n",
        "Write code that removes whitespace at the beginning and end of a string, and\n",
        "normalizes whitespace between words to be a single-space character.</br>\n",
        "a. Do this task using split() and join().\n",
        "b. Do this task using regular expression substitutions."
      ],
      "metadata": {
        "id": "FUFlybiuUN3p"
      }
    },
    {
      "cell_type": "code",
      "execution_count": 1,
      "metadata": {
        "colab": {
          "base_uri": "https://localhost:8080/"
        },
        "id": "OiNSp6nhQ82I",
        "outputId": "bebe92b1-72e8-4f68-c851-53bd470f28cf"
      },
      "outputs": [
        {
          "output_type": "stream",
          "name": "stdout",
          "text": [
            "Chuỗi gốc: '   Đây là   một   ví dụ   về   khoảng trắng   '\n",
            "Chuỗi đã chuẩn hóa: 'Đây là một ví dụ về khoảng trắng'\n"
          ]
        }
      ],
      "source": [
        "# using split() and join()\n",
        "def normalize_whitespace(input_string):\n",
        "    # Loại bỏ khoảng trắng ở đầu và cuối chuỗi\n",
        "    trimmed_string = input_string.strip()\n",
        "\n",
        "    # Tách chuỗi thành list các từ\n",
        "    words = trimmed_string.split()\n",
        "\n",
        "    # Kết hợp các từ bằng ký tự khoảng trắng đơn\n",
        "    normalized_string = ' '.join(words)\n",
        "\n",
        "    return normalized_string\n",
        "\n",
        "# Ví dụ sử dụng\n",
        "input_text = \"   Đây là   một   ví dụ   về   khoảng trắng   \"\n",
        "output_text = normalize_whitespace(input_text)\n",
        "print(\"Chuỗi gốc:\", repr(input_text))\n",
        "print(\"Chuỗi đã chuẩn hóa:\", repr(output_text))"
      ]
    },
    {
      "cell_type": "code",
      "source": [
        "# using regular expression substitutions\n",
        "import re\n",
        "\n",
        "def normalize_whitespace_with_regex(input_string):\n",
        "    # Loại bỏ khoảng trắng ở đầu và cuối chuỗi\n",
        "    trimmed_string = re.sub(r'^\\s+|\\s+$', '', input_string)\n",
        "\n",
        "    # Chuẩn hóa khoảng trắng giữa các từ thành ký tự khoảng trắng đơn\n",
        "    normalized_string = re.sub(r'\\s+', ' ', trimmed_string)\n",
        "\n",
        "    return normalized_string\n",
        "\n",
        "# Ví dụ sử dụng\n",
        "input_text = \"   Đây là   một   ví dụ   về   khoảng trắng   \"\n",
        "output_text = normalize_whitespace_with_regex(input_text)\n",
        "print(\"Chuỗi gốc:\", repr(input_text))\n",
        "print(\"Chuỗi đã chuẩn hóa:\", repr(output_text))"
      ],
      "metadata": {
        "colab": {
          "base_uri": "https://localhost:8080/"
        },
        "id": "enXlfM5AV9pS",
        "outputId": "97d618df-b973-49f8-86ce-9d9c82d6374c"
      },
      "execution_count": 2,
      "outputs": [
        {
          "output_type": "stream",
          "name": "stdout",
          "text": [
            "Chuỗi gốc: '   Đây là   một   ví dụ   về   khoảng trắng   '\n",
            "Chuỗi đã chuẩn hóa: 'Đây là một ví dụ về khoảng trắng'\n"
          ]
        }
      ]
    }
  ]
}