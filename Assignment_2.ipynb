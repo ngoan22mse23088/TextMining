{
  "cells": [
    {
      "cell_type": "markdown",
      "metadata": {
        "id": "view-in-github",
        "colab_type": "text"
      },
      "source": [
        "<a href=\"https://colab.research.google.com/github/ngoan22mse23088/TextMining/blob/master/Assignment_2.ipynb\" target=\"_parent\"><img src=\"https://colab.research.google.com/assets/colab-badge.svg\" alt=\"Open In Colab\"/></a>"
      ]
    },
    {
      "cell_type": "markdown",
      "source": [
        "## Install required library"
      ],
      "metadata": {
        "collapsed": false,
        "id": "672aed5236bd8d50"
      },
      "id": "672aed5236bd8d50"
    },
    {
      "cell_type": "code",
      "outputs": [
        {
          "name": "stdout",
          "output_type": "stream",
          "text": [
            "Requirement already satisfied: nltk in c:\\users\\phi\\pycharmprojects\\text-mining\\.venv\\lib\\site-packages (3.8.1)\n",
            "Requirement already satisfied: click in c:\\users\\phi\\pycharmprojects\\text-mining\\.venv\\lib\\site-packages (from nltk) (8.1.7)\n",
            "Requirement already satisfied: joblib in c:\\users\\phi\\pycharmprojects\\text-mining\\.venv\\lib\\site-packages (from nltk) (1.3.2)\n",
            "Requirement already satisfied: regex>=2021.8.3 in c:\\users\\phi\\pycharmprojects\\text-mining\\.venv\\lib\\site-packages (from nltk) (2023.12.25)\n",
            "Requirement already satisfied: tqdm in c:\\users\\phi\\pycharmprojects\\text-mining\\.venv\\lib\\site-packages (from nltk) (4.66.1)\n",
            "Requirement already satisfied: colorama in c:\\users\\phi\\pycharmprojects\\text-mining\\.venv\\lib\\site-packages (from click->nltk) (0.4.6)\n"
          ]
        },
        {
          "name": "stderr",
          "output_type": "stream",
          "text": [
            "\n",
            "[notice] A new release of pip is available: 23.2.1 -> 23.3.2\n",
            "[notice] To update, run: python.exe -m pip install --upgrade pip\n"
          ]
        },
        {
          "name": "stdout",
          "output_type": "stream",
          "text": [
            "Requirement already satisfied: pandas in c:\\users\\phi\\pycharmprojects\\text-mining\\.venv\\lib\\site-packages (2.1.4)\n",
            "Requirement already satisfied: numpy<2,>=1.26.0 in c:\\users\\phi\\pycharmprojects\\text-mining\\.venv\\lib\\site-packages (from pandas) (1.26.2)\n",
            "Requirement already satisfied: python-dateutil>=2.8.2 in c:\\users\\phi\\pycharmprojects\\text-mining\\.venv\\lib\\site-packages (from pandas) (2.8.2)\n",
            "Requirement already satisfied: pytz>=2020.1 in c:\\users\\phi\\pycharmprojects\\text-mining\\.venv\\lib\\site-packages (from pandas) (2023.3.post1)\n",
            "Requirement already satisfied: tzdata>=2022.1 in c:\\users\\phi\\pycharmprojects\\text-mining\\.venv\\lib\\site-packages (from pandas) (2023.3)\n",
            "Requirement already satisfied: six>=1.5 in c:\\users\\phi\\pycharmprojects\\text-mining\\.venv\\lib\\site-packages (from python-dateutil>=2.8.2->pandas) (1.16.0)\n"
          ]
        },
        {
          "name": "stderr",
          "output_type": "stream",
          "text": [
            "\n",
            "[notice] A new release of pip is available: 23.2.1 -> 23.3.2\n",
            "[notice] To update, run: python.exe -m pip install --upgrade pip\n"
          ]
        },
        {
          "name": "stdout",
          "output_type": "stream",
          "text": [
            "Collecting scikit-learn\n",
            "  Obtaining dependency information for scikit-learn from https://files.pythonhosted.org/packages/fe/6b/db949ed5ac367987b1f250f070f340b7715d22f0c9c965bdf07de6ca75a3/scikit_learn-1.3.2-cp312-cp312-win_amd64.whl.metadata\n",
            "  Downloading scikit_learn-1.3.2-cp312-cp312-win_amd64.whl.metadata (11 kB)\n",
            "Requirement already satisfied: numpy<2.0,>=1.17.3 in c:\\users\\phi\\pycharmprojects\\text-mining\\.venv\\lib\\site-packages (from scikit-learn) (1.26.2)\n",
            "Collecting scipy>=1.5.0 (from scikit-learn)\n",
            "  Obtaining dependency information for scipy>=1.5.0 from https://files.pythonhosted.org/packages/c6/a1/357e4cd43af2748e1e0407ae0e9a5ea8aaaa6b702833c81be11670dcbad8/scipy-1.11.4-cp312-cp312-win_amd64.whl.metadata\n",
            "  Downloading scipy-1.11.4-cp312-cp312-win_amd64.whl.metadata (60 kB)\n",
            "     ---------------------------------------- 0.0/60.4 kB ? eta -:--:--\n",
            "     ------ --------------------------------- 10.2/60.4 kB ? eta -:--:--\n",
            "     ------------------- ------------------ 30.7/60.4 kB 660.6 kB/s eta 0:00:01\n",
            "     -------------------------------------- 60.4/60.4 kB 643.1 kB/s eta 0:00:00\n",
            "Requirement already satisfied: joblib>=1.1.1 in c:\\users\\phi\\pycharmprojects\\text-mining\\.venv\\lib\\site-packages (from scikit-learn) (1.3.2)\n",
            "Collecting threadpoolctl>=2.0.0 (from scikit-learn)\n",
            "  Obtaining dependency information for threadpoolctl>=2.0.0 from https://files.pythonhosted.org/packages/81/12/fd4dea011af9d69e1cad05c75f3f7202cdcbeac9b712eea58ca779a72865/threadpoolctl-3.2.0-py3-none-any.whl.metadata\n",
            "  Downloading threadpoolctl-3.2.0-py3-none-any.whl.metadata (10.0 kB)\n",
            "Downloading scikit_learn-1.3.2-cp312-cp312-win_amd64.whl (9.1 MB)\n",
            "   ---------------------------------------- 0.0/9.1 MB ? eta -:--:--\n",
            "   ---------------------------------------- 0.1/9.1 MB 1.7 MB/s eta 0:00:06\n",
            "   - -------------------------------------- 0.3/9.1 MB 3.4 MB/s eta 0:00:03\n",
            "   -- ------------------------------------- 0.5/9.1 MB 4.7 MB/s eta 0:00:02\n",
            "   ------ --------------------------------- 1.5/9.1 MB 8.6 MB/s eta 0:00:01\n",
            "   ------------ --------------------------- 2.9/9.1 MB 13.1 MB/s eta 0:00:01\n",
            "   ------------------- -------------------- 4.4/9.1 MB 16.6 MB/s eta 0:00:01\n",
            "   ------------------------- -------------- 5.9/9.1 MB 19.0 MB/s eta 0:00:01\n",
            "   -------------------------------- ------- 7.4/9.1 MB 20.5 MB/s eta 0:00:01\n",
            "   ------------------------------------ --- 8.2/9.1 MB 21.9 MB/s eta 0:00:01\n",
            "   ---------------------------------------- 9.1/9.1 MB 20.1 MB/s eta 0:00:00\n",
            "Downloading scipy-1.11.4-cp312-cp312-win_amd64.whl (43.7 MB)\n",
            "   ---------------------------------------- 0.0/43.7 MB ? eta -:--:--\n",
            "   - -------------------------------------- 1.5/43.7 MB 32.5 MB/s eta 0:00:02\n",
            "   -- ------------------------------------- 2.7/43.7 MB 34.0 MB/s eta 0:00:02\n",
            "   --- ------------------------------------ 4.1/43.7 MB 29.3 MB/s eta 0:00:02\n",
            "   ---- ----------------------------------- 5.4/43.7 MB 31.6 MB/s eta 0:00:02\n",
            "   ------ --------------------------------- 7.1/43.7 MB 30.4 MB/s eta 0:00:02\n",
            "   ------- -------------------------------- 7.8/43.7 MB 29.2 MB/s eta 0:00:02\n",
            "   -------- ------------------------------- 9.0/43.7 MB 27.5 MB/s eta 0:00:02\n",
            "   --------- ------------------------------ 9.9/43.7 MB 26.5 MB/s eta 0:00:02\n",
            "   --------- ------------------------------ 10.5/43.7 MB 25.2 MB/s eta 0:00:02\n",
            "   ---------- ----------------------------- 11.3/43.7 MB 24.2 MB/s eta 0:00:02\n",
            "   ---------- ----------------------------- 12.0/43.7 MB 21.9 MB/s eta 0:00:02\n",
            "   ----------- ---------------------------- 12.5/43.7 MB 20.5 MB/s eta 0:00:02\n",
            "   ----------- ---------------------------- 12.9/43.7 MB 21.1 MB/s eta 0:00:02\n",
            "   ------------ --------------------------- 13.4/43.7 MB 19.3 MB/s eta 0:00:02\n",
            "   ------------ --------------------------- 13.9/43.7 MB 18.2 MB/s eta 0:00:02\n",
            "   ------------- -------------------------- 14.4/43.7 MB 17.7 MB/s eta 0:00:02\n",
            "   ------------- -------------------------- 14.9/43.7 MB 16.4 MB/s eta 0:00:02\n",
            "   -------------- ------------------------- 15.3/43.7 MB 15.2 MB/s eta 0:00:02\n",
            "   -------------- ------------------------- 15.8/43.7 MB 15.2 MB/s eta 0:00:02\n",
            "   -------------- ------------------------- 16.3/43.7 MB 14.2 MB/s eta 0:00:02\n",
            "   --------------- ------------------------ 16.8/43.7 MB 13.4 MB/s eta 0:00:03\n",
            "   --------------- ------------------------ 17.3/43.7 MB 12.8 MB/s eta 0:00:03\n",
            "   ---------------- ----------------------- 17.8/43.7 MB 12.4 MB/s eta 0:00:03\n",
            "   ---------------- ----------------------- 18.2/43.7 MB 12.6 MB/s eta 0:00:03\n",
            "   ----------------- ---------------------- 18.7/43.7 MB 12.1 MB/s eta 0:00:03\n",
            "   ----------------- ---------------------- 19.2/43.7 MB 11.5 MB/s eta 0:00:03\n",
            "   ------------------ --------------------- 19.7/43.7 MB 11.3 MB/s eta 0:00:03\n",
            "   ------------------ --------------------- 20.2/43.7 MB 10.9 MB/s eta 0:00:03\n",
            "   ------------------ --------------------- 20.7/43.7 MB 11.1 MB/s eta 0:00:03\n",
            "   ------------------- -------------------- 21.3/43.7 MB 10.7 MB/s eta 0:00:03\n",
            "   ------------------- -------------------- 21.7/43.7 MB 10.6 MB/s eta 0:00:03\n",
            "   -------------------- ------------------- 22.3/43.7 MB 10.4 MB/s eta 0:00:03\n",
            "   -------------------- ------------------- 22.7/43.7 MB 10.4 MB/s eta 0:00:03\n",
            "   --------------------- ------------------ 23.3/43.7 MB 10.6 MB/s eta 0:00:02\n",
            "   --------------------- ------------------ 23.8/43.7 MB 10.6 MB/s eta 0:00:02\n",
            "   ---------------------- ----------------- 24.3/43.7 MB 10.6 MB/s eta 0:00:02\n",
            "   ---------------------- ----------------- 24.8/43.7 MB 10.6 MB/s eta 0:00:02\n",
            "   ----------------------- ---------------- 25.3/43.7 MB 10.7 MB/s eta 0:00:02\n",
            "   ----------------------- ---------------- 25.9/43.7 MB 10.7 MB/s eta 0:00:02\n",
            "   ------------------------ --------------- 26.4/43.7 MB 10.7 MB/s eta 0:00:02\n",
            "   ------------------------ --------------- 26.9/43.7 MB 10.9 MB/s eta 0:00:02\n",
            "   ------------------------- -------------- 27.5/43.7 MB 10.9 MB/s eta 0:00:02\n",
            "   ------------------------- -------------- 28.0/43.7 MB 10.9 MB/s eta 0:00:02\n",
            "   -------------------------- ------------- 28.5/43.7 MB 10.9 MB/s eta 0:00:02\n",
            "   -------------------------- ------------- 29.0/43.7 MB 10.9 MB/s eta 0:00:02\n",
            "   --------------------------- ------------ 29.5/43.7 MB 10.9 MB/s eta 0:00:02\n",
            "   --------------------------- ------------ 30.1/43.7 MB 11.1 MB/s eta 0:00:02\n",
            "   --------------------------- ------------ 30.6/43.7 MB 11.1 MB/s eta 0:00:02\n",
            "   ---------------------------- ----------- 31.1/43.7 MB 11.1 MB/s eta 0:00:02\n",
            "   ---------------------------- ----------- 31.6/43.7 MB 11.1 MB/s eta 0:00:02\n",
            "   ----------------------------- ---------- 32.2/43.7 MB 11.1 MB/s eta 0:00:02\n",
            "   ----------------------------- ---------- 32.7/43.7 MB 11.3 MB/s eta 0:00:01\n",
            "   ------------------------------ --------- 33.3/43.7 MB 11.3 MB/s eta 0:00:01\n",
            "   ------------------------------ --------- 33.8/43.7 MB 11.3 MB/s eta 0:00:01\n",
            "   ------------------------------- -------- 34.3/43.7 MB 11.3 MB/s eta 0:00:01\n",
            "   ------------------------------- -------- 34.9/43.7 MB 11.3 MB/s eta 0:00:01\n",
            "   -------------------------------- ------- 35.4/43.7 MB 11.3 MB/s eta 0:00:01\n",
            "   -------------------------------- ------- 35.9/43.7 MB 11.3 MB/s eta 0:00:01\n",
            "   --------------------------------- ------ 36.5/43.7 MB 11.3 MB/s eta 0:00:01\n",
            "   --------------------------------- ------ 37.0/43.7 MB 11.3 MB/s eta 0:00:01\n",
            "   ---------------------------------- ----- 37.6/43.7 MB 11.5 MB/s eta 0:00:01\n",
            "   ---------------------------------- ----- 38.1/43.7 MB 11.5 MB/s eta 0:00:01\n",
            "   ----------------------------------- ---- 38.5/43.7 MB 11.5 MB/s eta 0:00:01\n",
            "   ----------------------------------- ---- 39.0/43.7 MB 11.3 MB/s eta 0:00:01\n",
            "   ------------------------------------ --- 39.5/43.7 MB 11.3 MB/s eta 0:00:01\n",
            "   ------------------------------------ --- 40.1/43.7 MB 11.3 MB/s eta 0:00:01\n",
            "   ------------------------------------- -- 40.6/43.7 MB 11.3 MB/s eta 0:00:01\n",
            "   ------------------------------------- -- 41.2/43.7 MB 11.3 MB/s eta 0:00:01\n",
            "   -------------------------------------- - 41.7/43.7 MB 11.3 MB/s eta 0:00:01\n",
            "   -------------------------------------- - 42.3/43.7 MB 11.5 MB/s eta 0:00:01\n",
            "   ---------------------------------------  42.9/43.7 MB 11.5 MB/s eta 0:00:01\n",
            "   ---------------------------------------  43.4/43.7 MB 11.5 MB/s eta 0:00:01\n",
            "   ---------------------------------------  43.7/43.7 MB 11.5 MB/s eta 0:00:01\n",
            "   ---------------------------------------  43.7/43.7 MB 11.5 MB/s eta 0:00:01\n",
            "   ---------------------------------------- 43.7/43.7 MB 10.6 MB/s eta 0:00:00\n",
            "Downloading threadpoolctl-3.2.0-py3-none-any.whl (15 kB)\n",
            "Installing collected packages: threadpoolctl, scipy, scikit-learn\n",
            "Successfully installed scikit-learn-1.3.2 scipy-1.11.4 threadpoolctl-3.2.0\n"
          ]
        },
        {
          "name": "stderr",
          "output_type": "stream",
          "text": [
            "\n",
            "[notice] A new release of pip is available: 23.2.1 -> 23.3.2\n",
            "[notice] To update, run: python.exe -m pip install --upgrade pip\n"
          ]
        }
      ],
      "source": [
        "!pip install nltk\n",
        "!pip install pandas\n",
        "!pip install scikit-learn"
      ],
      "metadata": {
        "ExecuteTime": {
          "end_time": "2023-12-24T09:00:37.266487800Z",
          "start_time": "2023-12-24T09:00:19.180619400Z"
        },
        "id": "d22337f7d82c9d14",
        "outputId": "fd4e0e74-edeb-4522-9295-61e55565a44c"
      },
      "id": "d22337f7d82c9d14",
      "execution_count": null
    },
    {
      "cell_type": "markdown",
      "source": [
        "## Import library and move_reviews dataset"
      ],
      "metadata": {
        "collapsed": false,
        "id": "85bfd2761c789dcc"
      },
      "id": "85bfd2761c789dcc"
    },
    {
      "cell_type": "code",
      "outputs": [],
      "source": [
        "import nltk\n",
        "from nltk.corpus import movie_reviews\n",
        "import pandas as pd\n",
        "import sklearn as sk\n",
        "import random"
      ],
      "metadata": {
        "collapsed": true,
        "ExecuteTime": {
          "end_time": "2023-12-24T09:01:20.714906400Z",
          "start_time": "2023-12-24T09:01:20.709921Z"
        },
        "id": "initial_id"
      },
      "id": "initial_id",
      "execution_count": null
    },
    {
      "cell_type": "code",
      "outputs": [
        {
          "name": "stderr",
          "output_type": "stream",
          "text": [
            "[nltk_data] Downloading package movie_reviews to\n",
            "[nltk_data]     C:\\Users\\Phi\\AppData\\Roaming\\nltk_data...\n",
            "[nltk_data]   Package movie_reviews is already up-to-date!\n"
          ]
        },
        {
          "data": {
            "text/plain": "True"
          },
          "execution_count": 25,
          "metadata": {},
          "output_type": "execute_result"
        }
      ],
      "source": [
        "import nltk\n",
        "nltk.download('movie_reviews')"
      ],
      "metadata": {
        "ExecuteTime": {
          "end_time": "2023-12-24T09:10:54.343473300Z",
          "start_time": "2023-12-24T09:10:54.338583500Z"
        },
        "id": "11442024e66bc243",
        "outputId": "37fdb0db-2c01-4277-fee5-58382526205e"
      },
      "id": "11442024e66bc243",
      "execution_count": null
    },
    {
      "cell_type": "markdown",
      "source": [
        "## A list of the 30 features that the classifier finds to be most informative"
      ],
      "metadata": {
        "collapsed": false,
        "id": "510713c67ad736f9"
      },
      "id": "510713c67ad736f9"
    },
    {
      "cell_type": "code",
      "outputs": [
        {
          "data": {
            "text/plain": "['plot',\n ':',\n 'two',\n 'teen',\n 'couples',\n 'go',\n 'to',\n 'a',\n 'church',\n 'party',\n ',',\n 'drink',\n 'and',\n 'then',\n 'drive']"
          },
          "execution_count": 26,
          "metadata": {},
          "output_type": "execute_result"
        }
      ],
      "source": [
        "# Find the top 1000 words in all movie reviews\n",
        "\n",
        "words = movie_reviews.words()\n",
        "all_words = nltk.FreqDist(w.lower() for w in words) # sorted most popular {words: freq}\n",
        "word_features = list(all_words.keys())[:1000] # more words slows down the training\n",
        "\n",
        "# example of results\n",
        "word_features[:15]"
      ],
      "metadata": {
        "ExecuteTime": {
          "end_time": "2023-12-24T09:10:58.704745200Z",
          "start_time": "2023-12-24T09:10:56.458106Z"
        },
        "id": "fd6dc57cc333e6cd",
        "outputId": "00a6cc96-891d-4aeb-ff9d-8d9415489d97"
      },
      "id": "fd6dc57cc333e6cd",
      "execution_count": null
    },
    {
      "cell_type": "code",
      "outputs": [],
      "source": [
        "# build list of words and their positive/negative classification from the reviews\n",
        "\n",
        "documents = [(list(movie_reviews.words(fileid)), category)\n",
        "             for category in movie_reviews.categories()\n",
        "             for fileid in movie_reviews.fileids(category)]"
      ],
      "metadata": {
        "ExecuteTime": {
          "end_time": "2023-12-24T09:11:23.183638500Z",
          "start_time": "2023-12-24T09:11:20.698930900Z"
        },
        "id": "1f02df84028cecbe"
      },
      "id": "1f02df84028cecbe",
      "execution_count": null
    },
    {
      "cell_type": "code",
      "outputs": [],
      "source": [
        "# Create feature set/class for each review against list of top 1000 words\n",
        "# Extract words from document\n",
        "\n",
        "def doc_features(document): # [_document-classify-extractor]\n",
        "    doc_words = set(document) # [_document-classify-set]\n",
        "    features = {}\n",
        "    for word in word_features:\n",
        "        features['contains({})'.format(word)] = (word in doc_words)\n",
        "    return features\n",
        "\n",
        "featuresets = [(doc_features(d), c) for (d,c) in documents]"
      ],
      "metadata": {
        "ExecuteTime": {
          "end_time": "2023-12-24T09:11:23.877348500Z",
          "start_time": "2023-12-24T09:11:23.186631300Z"
        },
        "id": "86ac17884c7bb50"
      },
      "id": "86ac17884c7bb50",
      "execution_count": null
    },
    {
      "cell_type": "code",
      "outputs": [],
      "source": [
        "# Split to create training and test data\n",
        "train_set = featuresets[100:]\n",
        "test_set = featuresets[:100]"
      ],
      "metadata": {
        "ExecuteTime": {
          "end_time": "2023-12-24T09:11:24.959686700Z",
          "start_time": "2023-12-24T09:11:24.923092900Z"
        },
        "id": "439746fb9c18124f"
      },
      "id": "439746fb9c18124f",
      "execution_count": null
    },
    {
      "cell_type": "code",
      "outputs": [],
      "source": [
        "# Train using Naive Bayes classifier\n",
        "random.seed(4321)\n",
        "classifier = nltk.NaiveBayesClassifier.train(train_set)"
      ],
      "metadata": {
        "ExecuteTime": {
          "end_time": "2023-12-24T09:11:27.778778500Z",
          "start_time": "2023-12-24T09:11:26.521798700Z"
        },
        "id": "43b0682fe4633496"
      },
      "id": "43b0682fe4633496",
      "execution_count": null
    },
    {
      "cell_type": "code",
      "outputs": [
        {
          "name": "stdout",
          "output_type": "stream",
          "text": [
            "Most Informative Features\n",
            "        contains(turkey) = True              neg : pos    =      6.5 : 1.0\n",
            "         contains(kudos) = True              pos : neg    =      5.9 : 1.0\n",
            "        contains(wasted) = True              neg : pos    =      5.6 : 1.0\n",
            "         contains(awful) = True              neg : pos    =      5.4 : 1.0\n",
            "        contains(poorly) = True              neg : pos    =      4.9 : 1.0\n",
            "       contains(bronson) = True              neg : pos    =      4.8 : 1.0\n",
            "         contains(bland) = True              neg : pos    =      4.2 : 1.0\n",
            "      contains(thrilled) = True              pos : neg    =      4.1 : 1.0\n",
            "       contains(runtime) = True              neg : pos    =      4.1 : 1.0\n",
            "     contains(underwood) = True              neg : pos    =      4.1 : 1.0\n",
            "     contains(stretched) = True              neg : pos    =      4.0 : 1.0\n",
            "     contains(anastasia) = True              pos : neg    =      3.9 : 1.0\n",
            "          contains(dull) = True              neg : pos    =      3.8 : 1.0\n",
            "       contains(jumbled) = True              neg : pos    =      3.8 : 1.0\n",
            "        contains(sexist) = True              neg : pos    =      3.8 : 1.0\n",
            "          contains(mess) = True              neg : pos    =      3.6 : 1.0\n",
            "     contains(considers) = True              pos : neg    =      3.5 : 1.0\n",
            "        contains(robots) = True              pos : neg    =      3.5 : 1.0\n",
            "     contains(memorable) = True              pos : neg    =      3.4 : 1.0\n",
            "        contains(stable) = True              pos : neg    =      3.4 : 1.0\n",
            "        contains(brooke) = True              neg : pos    =      3.3 : 1.0\n",
            "      contains(reformed) = True              neg : pos    =      3.3 : 1.0\n",
            "          contains(skip) = True              neg : pos    =      3.3 : 1.0\n",
            "       contains(implied) = True              pos : neg    =      3.3 : 1.0\n",
            "       contains(ponders) = True              pos : neg    =      3.3 : 1.0\n",
            "     contains(remembers) = True              pos : neg    =      3.3 : 1.0\n",
            "          contains(stan) = True              pos : neg    =      3.3 : 1.0\n",
            "         contains(ranks) = True              pos : neg    =      3.3 : 1.0\n",
            "   contains(potentially) = True              neg : pos    =      3.2 : 1.0\n",
            " contains(understanding) = True              pos : neg    =      3.0 : 1.0\n"
          ]
        }
      ],
      "source": [
        "# 30 most imporant features\n",
        "classifier.show_most_informative_features(30)"
      ],
      "metadata": {
        "ExecuteTime": {
          "end_time": "2023-12-24T09:11:29.207739100Z",
          "start_time": "2023-12-24T09:11:29.185838900Z"
        },
        "id": "966e46cb99ef3c5f",
        "outputId": "3b0a1dbc-0a2d-4c9f-ebec-5f5c8365ff1c"
      },
      "id": "966e46cb99ef3c5f",
      "execution_count": null
    },
    {
      "cell_type": "markdown",
      "source": [
        "## Can you explain why these particular features are informative? Do you find any of them surprising?\n",
        "#### Informative Features\n",
        "- Negative Sentiment:\n",
        "> - \"turkey,\" \"wasted,\" \"awful,\" \"poorly\": These directly express negative opinions about the movie's quality or experience.\n",
        "> - \"bronson,\" \"dull,\" \"jumbled\": These describe specific aspects of the movie that might contribute to negative feelings, like a bad performance, lack of excitement, or confusing plot.\n",
        "> - \"sexist,\" \"mess\": These address sensitive topics or chaotic storytelling, potentially leading to negative reactions.\n",
        "> - \"runtime,\" \"underwood\": Mentioning runtime indicates potential concerns about movie length or specific actors/directors, while \"underwood\" might be associated with negative opinions about actors often associated with bad movies.\n",
        "- Positive Sentiment:\n",
        "> - \"kudos,\" \"thrilled,\" \"memorable\": These directly express positive appreciation for the movie.\n",
        "> - \"robots,\" \"anastasia\": These might indicate specific genres or elements (e.g., sci-fi, animation) that resonate with certain viewers.\n",
        "> - \"considers,\" \"remembers,\" \"ponders\": These suggest the movie evoked deeper thought and reflection, potentially leading to positive engagement.\n",
        "> - \"stable,\" \"reformed\": These could describe character arcs or thematic elements that inspire positive feelings.\n",
        "#### Surprising Features:\n",
        "> - \"bland,\" \"stretched\": While negative, these might be subjective and depend on individual preferences for movie style or pacing.\n",
        "> - \"brooke,\" \"stan\": These seem specific to certain actors or fandoms, potentially indicating niche reactions.\n",
        "> - \"implied,\" \"ponders\": These are less explicit expressions of sentiment and might require further analysis to understand their true impact.\n",
        "##### Overall, the informative features highlight words that convey strong opinions or evoke specific emotions related to the movie experience. Some surprises stem from subjectivity or niche references, requiring deeper context or investigation."
      ],
      "metadata": {
        "collapsed": false,
        "id": "a04c0471e3aaba7"
      },
      "id": "a04c0471e3aaba7"
    },
    {
      "cell_type": "code",
      "outputs": [],
      "source": [],
      "metadata": {
        "id": "3276ca255cc25c53"
      },
      "id": "3276ca255cc25c53",
      "execution_count": null
    }
  ],
  "metadata": {
    "kernelspec": {
      "display_name": "Python 3",
      "language": "python",
      "name": "python3"
    },
    "language_info": {
      "codemirror_mode": {
        "name": "ipython",
        "version": 2
      },
      "file_extension": ".py",
      "mimetype": "text/x-python",
      "name": "python",
      "nbconvert_exporter": "python",
      "pygments_lexer": "ipython2",
      "version": "2.7.6"
    },
    "colab": {
      "provenance": [],
      "include_colab_link": true
    }
  },
  "nbformat": 4,
  "nbformat_minor": 5
}