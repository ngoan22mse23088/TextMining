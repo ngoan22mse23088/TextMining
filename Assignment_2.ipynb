{
  "cells": [
    {
      "cell_type": "markdown",
      "metadata": {
        "id": "view-in-github",
        "colab_type": "text"
      },
      "source": [
        "<a href=\"https://colab.research.google.com/github/ngoan22mse23088/TextMining/blob/master/Assignment_2.ipynb\" target=\"_parent\"><img src=\"https://colab.research.google.com/assets/colab-badge.svg\" alt=\"Open In Colab\"/></a>"
      ]
    },
    {
      "cell_type": "markdown",
      "source": [
        "# Introduction\n",
        "\n",
        "#### Name: Lê Chí Ngoan</br>\n",
        "#### Class: MSE#12HCM </br>\n",
        "#### Student Id: 22MSE23088 </br>\n",
        "#### Email: ngoan22mse23088@fsb.edu.vn\n",
        "\n",
        "### **Problem Statement**: </br>\n",
        "Using the movie review document classifier discussed in this chapter, generate\n",
        "a list of the 30 features that the classifier finds to be most informative.\n",
        "</br>\n",
        "Can you explain why these particular features are informative ?</br>\n",
        "Do you find any of them surprising ?"
      ],
      "metadata": {
        "id": "n93vDN0RfgaX"
      },
      "id": "n93vDN0RfgaX"
    },
    {
      "cell_type": "markdown",
      "source": [
        "## Install required library"
      ],
      "metadata": {
        "collapsed": false,
        "id": "672aed5236bd8d50"
      },
      "id": "672aed5236bd8d50"
    },
    {
      "cell_type": "code",
      "outputs": [
        {
          "output_type": "stream",
          "name": "stdout",
          "text": [
            "Requirement already satisfied: nltk in /usr/local/lib/python3.10/dist-packages (3.8.1)\n",
            "Requirement already satisfied: click in /usr/local/lib/python3.10/dist-packages (from nltk) (8.1.7)\n",
            "Requirement already satisfied: joblib in /usr/local/lib/python3.10/dist-packages (from nltk) (1.3.2)\n",
            "Requirement already satisfied: regex>=2021.8.3 in /usr/local/lib/python3.10/dist-packages (from nltk) (2023.6.3)\n",
            "Requirement already satisfied: tqdm in /usr/local/lib/python3.10/dist-packages (from nltk) (4.66.1)\n",
            "Requirement already satisfied: pandas in /usr/local/lib/python3.10/dist-packages (1.5.3)\n",
            "Requirement already satisfied: python-dateutil>=2.8.1 in /usr/local/lib/python3.10/dist-packages (from pandas) (2.8.2)\n",
            "Requirement already satisfied: pytz>=2020.1 in /usr/local/lib/python3.10/dist-packages (from pandas) (2023.3.post1)\n",
            "Requirement already satisfied: numpy>=1.21.0 in /usr/local/lib/python3.10/dist-packages (from pandas) (1.23.5)\n",
            "Requirement already satisfied: six>=1.5 in /usr/local/lib/python3.10/dist-packages (from python-dateutil>=2.8.1->pandas) (1.16.0)\n",
            "Requirement already satisfied: scikit-learn in /usr/local/lib/python3.10/dist-packages (1.2.2)\n",
            "Requirement already satisfied: numpy>=1.17.3 in /usr/local/lib/python3.10/dist-packages (from scikit-learn) (1.23.5)\n",
            "Requirement already satisfied: scipy>=1.3.2 in /usr/local/lib/python3.10/dist-packages (from scikit-learn) (1.11.4)\n",
            "Requirement already satisfied: joblib>=1.1.1 in /usr/local/lib/python3.10/dist-packages (from scikit-learn) (1.3.2)\n",
            "Requirement already satisfied: threadpoolctl>=2.0.0 in /usr/local/lib/python3.10/dist-packages (from scikit-learn) (3.2.0)\n"
          ]
        }
      ],
      "source": [
        "!pip install nltk\n",
        "!pip install pandas\n",
        "!pip install scikit-learn"
      ],
      "metadata": {
        "ExecuteTime": {
          "end_time": "2023-12-24T09:00:37.266487800Z",
          "start_time": "2023-12-24T09:00:19.180619400Z"
        },
        "colab": {
          "base_uri": "https://localhost:8080/"
        },
        "id": "d22337f7d82c9d14",
        "outputId": "b9cd92b8-6fca-4119-fc21-1ba025517604"
      },
      "id": "d22337f7d82c9d14",
      "execution_count": 1
    },
    {
      "cell_type": "markdown",
      "source": [
        "## Import library and move_reviews dataset"
      ],
      "metadata": {
        "collapsed": false,
        "id": "85bfd2761c789dcc"
      },
      "id": "85bfd2761c789dcc"
    },
    {
      "cell_type": "code",
      "outputs": [],
      "source": [
        "import nltk\n",
        "from nltk.corpus import movie_reviews\n",
        "import pandas as pd\n",
        "import sklearn as sk\n",
        "import random\n",
        "import nltk\n",
        "nltk.download('movie_reviews')"
      ],
      "metadata": {
        "collapsed": true,
        "ExecuteTime": {
          "end_time": "2023-12-24T09:01:20.714906400Z",
          "start_time": "2023-12-24T09:01:20.709921Z"
        },
        "id": "initial_id"
      },
      "id": "initial_id",
      "execution_count": null
    },
    {
      "cell_type": "markdown",
      "source": [
        "## A list of the 30 features that the classifier finds to be most informative"
      ],
      "metadata": {
        "collapsed": false,
        "id": "510713c67ad736f9"
      },
      "id": "510713c67ad736f9"
    },
    {
      "cell_type": "code",
      "outputs": [
        {
          "data": {
            "text/plain": "['plot',\n ':',\n 'two',\n 'teen',\n 'couples',\n 'go',\n 'to',\n 'a',\n 'church',\n 'party',\n ',',\n 'drink',\n 'and',\n 'then',\n 'drive']"
          },
          "execution_count": 26,
          "metadata": {},
          "output_type": "execute_result"
        }
      ],
      "source": [
        "# Find the top 1000 words in all movie reviews\n",
        "\n",
        "words = movie_reviews.words()\n",
        "all_words = nltk.FreqDist(w.lower() for w in words) # sorted most popular {words: freq}\n",
        "word_features = list(all_words.keys())[:1000] # more words slows down the training\n",
        "\n",
        "# example of results\n",
        "word_features[:15]"
      ],
      "metadata": {
        "ExecuteTime": {
          "end_time": "2023-12-24T09:10:58.704745200Z",
          "start_time": "2023-12-24T09:10:56.458106Z"
        },
        "id": "fd6dc57cc333e6cd",
        "outputId": "00a6cc96-891d-4aeb-ff9d-8d9415489d97"
      },
      "id": "fd6dc57cc333e6cd",
      "execution_count": null
    },
    {
      "cell_type": "code",
      "outputs": [],
      "source": [
        "# build list of words and their positive/negative classification from the reviews\n",
        "\n",
        "documents = [(list(movie_reviews.words(fileid)), category)\n",
        "             for category in movie_reviews.categories()\n",
        "             for fileid in movie_reviews.fileids(category)]"
      ],
      "metadata": {
        "ExecuteTime": {
          "end_time": "2023-12-24T09:11:23.183638500Z",
          "start_time": "2023-12-24T09:11:20.698930900Z"
        },
        "id": "1f02df84028cecbe"
      },
      "id": "1f02df84028cecbe",
      "execution_count": null
    },
    {
      "cell_type": "code",
      "outputs": [],
      "source": [
        "# Create feature set/class for each review against list of top 1000 words\n",
        "# Extract words from document\n",
        "\n",
        "def doc_features(document): # [_document-classify-extractor]\n",
        "    doc_words = set(document) # [_document-classify-set]\n",
        "    features = {}\n",
        "    for word in word_features:\n",
        "        features['contains({})'.format(word)] = (word in doc_words)\n",
        "    return features\n",
        "\n",
        "featuresets = [(doc_features(d), c) for (d,c) in documents]"
      ],
      "metadata": {
        "ExecuteTime": {
          "end_time": "2023-12-24T09:11:23.877348500Z",
          "start_time": "2023-12-24T09:11:23.186631300Z"
        },
        "id": "86ac17884c7bb50"
      },
      "id": "86ac17884c7bb50",
      "execution_count": null
    },
    {
      "cell_type": "code",
      "outputs": [],
      "source": [
        "# Split to create training and test data\n",
        "train_set = featuresets[100:]\n",
        "test_set = featuresets[:100]"
      ],
      "metadata": {
        "ExecuteTime": {
          "end_time": "2023-12-24T09:11:24.959686700Z",
          "start_time": "2023-12-24T09:11:24.923092900Z"
        },
        "id": "439746fb9c18124f"
      },
      "id": "439746fb9c18124f",
      "execution_count": null
    },
    {
      "cell_type": "code",
      "outputs": [],
      "source": [
        "# Train using Naive Bayes classifier\n",
        "random.seed(4321)\n",
        "classifier = nltk.NaiveBayesClassifier.train(train_set)"
      ],
      "metadata": {
        "ExecuteTime": {
          "end_time": "2023-12-24T09:11:27.778778500Z",
          "start_time": "2023-12-24T09:11:26.521798700Z"
        },
        "id": "43b0682fe4633496"
      },
      "id": "43b0682fe4633496",
      "execution_count": null
    },
    {
      "cell_type": "code",
      "outputs": [
        {
          "name": "stdout",
          "output_type": "stream",
          "text": [
            "Most Informative Features\n",
            "        contains(turkey) = True              neg : pos    =      6.5 : 1.0\n",
            "         contains(kudos) = True              pos : neg    =      5.9 : 1.0\n",
            "        contains(wasted) = True              neg : pos    =      5.6 : 1.0\n",
            "         contains(awful) = True              neg : pos    =      5.4 : 1.0\n",
            "        contains(poorly) = True              neg : pos    =      4.9 : 1.0\n",
            "       contains(bronson) = True              neg : pos    =      4.8 : 1.0\n",
            "         contains(bland) = True              neg : pos    =      4.2 : 1.0\n",
            "      contains(thrilled) = True              pos : neg    =      4.1 : 1.0\n",
            "       contains(runtime) = True              neg : pos    =      4.1 : 1.0\n",
            "     contains(underwood) = True              neg : pos    =      4.1 : 1.0\n",
            "     contains(stretched) = True              neg : pos    =      4.0 : 1.0\n",
            "     contains(anastasia) = True              pos : neg    =      3.9 : 1.0\n",
            "          contains(dull) = True              neg : pos    =      3.8 : 1.0\n",
            "       contains(jumbled) = True              neg : pos    =      3.8 : 1.0\n",
            "        contains(sexist) = True              neg : pos    =      3.8 : 1.0\n",
            "          contains(mess) = True              neg : pos    =      3.6 : 1.0\n",
            "     contains(considers) = True              pos : neg    =      3.5 : 1.0\n",
            "        contains(robots) = True              pos : neg    =      3.5 : 1.0\n",
            "     contains(memorable) = True              pos : neg    =      3.4 : 1.0\n",
            "        contains(stable) = True              pos : neg    =      3.4 : 1.0\n",
            "        contains(brooke) = True              neg : pos    =      3.3 : 1.0\n",
            "      contains(reformed) = True              neg : pos    =      3.3 : 1.0\n",
            "          contains(skip) = True              neg : pos    =      3.3 : 1.0\n",
            "       contains(implied) = True              pos : neg    =      3.3 : 1.0\n",
            "       contains(ponders) = True              pos : neg    =      3.3 : 1.0\n",
            "     contains(remembers) = True              pos : neg    =      3.3 : 1.0\n",
            "          contains(stan) = True              pos : neg    =      3.3 : 1.0\n",
            "         contains(ranks) = True              pos : neg    =      3.3 : 1.0\n",
            "   contains(potentially) = True              neg : pos    =      3.2 : 1.0\n",
            " contains(understanding) = True              pos : neg    =      3.0 : 1.0\n"
          ]
        }
      ],
      "source": [
        "# 30 most imporant features\n",
        "classifier.show_most_informative_features(30)"
      ],
      "metadata": {
        "ExecuteTime": {
          "end_time": "2023-12-24T09:11:29.207739100Z",
          "start_time": "2023-12-24T09:11:29.185838900Z"
        },
        "id": "966e46cb99ef3c5f",
        "outputId": "3b0a1dbc-0a2d-4c9f-ebec-5f5c8365ff1c"
      },
      "id": "966e46cb99ef3c5f",
      "execution_count": null
    },
    {
      "cell_type": "markdown",
      "source": [
        "## Can you explain why these particular features are informative? Do you find any of them surprising?\n",
        "#### Informative Features\n",
        "- Negative Sentiment:\n",
        "> - \"turkey,\" \"wasted,\" \"awful,\" \"poorly\": These directly express negative opinions about the movie's quality or experience.\n",
        "> - \"bronson,\" \"dull,\" \"jumbled\": These describe specific aspects of the movie that might contribute to negative feelings, like a bad performance, lack of excitement, or confusing plot.\n",
        "> - \"sexist,\" \"mess\": These address sensitive topics or chaotic storytelling, potentially leading to negative reactions.\n",
        "> - \"runtime,\" \"underwood\": Mentioning runtime indicates potential concerns about movie length or specific actors/directors, while \"underwood\" might be associated with negative opinions about actors often associated with bad movies.\n",
        "- Positive Sentiment:\n",
        "> - \"kudos,\" \"thrilled,\" \"memorable\": These directly express positive appreciation for the movie.\n",
        "> - \"robots,\" \"anastasia\": These might indicate specific genres or elements (e.g., sci-fi, animation) that resonate with certain viewers.\n",
        "> - \"considers,\" \"remembers,\" \"ponders\": These suggest the movie evoked deeper thought and reflection, potentially leading to positive engagement.\n",
        "> - \"stable,\" \"reformed\": These could describe character arcs or thematic elements that inspire positive feelings.\n",
        "#### Surprising Features:\n",
        "> - \"bland,\" \"stretched\": While negative, these might be subjective and depend on individual preferences for movie style or pacing.\n",
        "> - \"brooke,\" \"stan\": These seem specific to certain actors or fandoms, potentially indicating niche reactions.\n",
        "> - \"implied,\" \"ponders\": These are less explicit expressions of sentiment and might require further analysis to understand their true impact.\n",
        "##### Overall, the informative features highlight words that convey strong opinions or evoke specific emotions related to the movie experience. Some surprises stem from subjectivity or niche references, requiring deeper context or investigation."
      ],
      "metadata": {
        "collapsed": false,
        "id": "a04c0471e3aaba7"
      },
      "id": "a04c0471e3aaba7"
    }
  ],
  "metadata": {
    "kernelspec": {
      "display_name": "Python 3",
      "language": "python",
      "name": "python3"
    },
    "language_info": {
      "codemirror_mode": {
        "name": "ipython",
        "version": 2
      },
      "file_extension": ".py",
      "mimetype": "text/x-python",
      "name": "python",
      "nbconvert_exporter": "python",
      "pygments_lexer": "ipython2",
      "version": "2.7.6"
    },
    "colab": {
      "provenance": [],
      "include_colab_link": true
    }
  },
  "nbformat": 4,
  "nbformat_minor": 5
}