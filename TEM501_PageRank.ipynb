{
  "nbformat": 4,
  "nbformat_minor": 0,
  "metadata": {
    "colab": {
      "provenance": [],
      "toc_visible": true,
      "include_colab_link": true
    },
    "kernelspec": {
      "name": "python3",
      "display_name": "Python 3"
    },
    "language_info": {
      "name": "python"
    }
  },
  "cells": [
    {
      "cell_type": "markdown",
      "metadata": {
        "id": "view-in-github",
        "colab_type": "text"
      },
      "source": [
        "<a href=\"https://colab.research.google.com/github/ngoan22mse23088/TextMining/blob/master/TEM501_PageRank.ipynb\" target=\"_parent\"><img src=\"https://colab.research.google.com/assets/colab-badge.svg\" alt=\"Open In Colab\"/></a>"
      ]
    },
    {
      "cell_type": "code",
      "execution_count": null,
      "metadata": {
        "id": "LLUn_v6RsLXn"
      },
      "outputs": [],
      "source": [
        "import networkx as nx\n",
        "\n",
        "def pagerank(G, alpha=0.85, personalization=None, max_iter=100, tol=1.0e-8, nstart=None, weight='weight', dangling=None):\n",
        "    if len(G) == 0:\n",
        "        return {}\n",
        "\n",
        "    D = G.to_directed() if not G.is_directed() else G\n",
        "\n",
        "    # Create a copy in (right) stochastic form\n",
        "    W = nx.stochastic_graph(D, weight=weight)\n",
        "    N = W.number_of_nodes()\n",
        "\n",
        "    # Choose fixed starting vector if not given\n",
        "    if nstart is None:\n",
        "        x = {k: 1.0 / N for k in W}\n",
        "    else:\n",
        "        # Normalized nstart vector\n",
        "        s = float(sum(nstart.values()))\n",
        "        x = {k: v / s for k, v in nstart.items()}\n",
        "\n",
        "    # Assign uniform personalization vector if not given\n",
        "    if personalization is None:\n",
        "        p = {k: 1.0 / N for k in W}\n",
        "    else:\n",
        "        missing = set(G) - set(personalization)\n",
        "        if missing:\n",
        "            raise NetworkXError('Personalization dictionary must have a value for every node. Missing nodes %s' % missing)\n",
        "        s = float(sum(personalization.values()))\n",
        "        p = {k: v / s for k, v in personalization.items()}\n",
        "\n",
        "    # Use personalization vector if dangling vector not specified\n",
        "    if dangling is None:\n",
        "        dangling_weights = p\n",
        "    else:\n",
        "        missing = set(G) - set(dangling)\n",
        "        if missing:\n",
        "            raise NetworkXError('Dangling node dictionary must have a value for every node. Missing nodes %s' % missing)\n",
        "        s = float(sum(dangling.values()))\n",
        "        dangling_weights = {k: v / s for k, v in dangling.items()}\n",
        "    dangling_nodes = [n for n in W if W.out_degree(n, weight=weight) == 0.0]\n",
        "\n",
        "    # Power iteration: make up to max_iter iterations\n",
        "    for iter in range(max_iter):\n",
        "        xlast = x.copy()\n",
        "        x = {k: 0 for k in xlast}\n",
        "        danglesum = alpha * sum(xlast[n] for n in dangling_nodes)\n",
        "        for n in x:\n",
        "            for nbr in W[n]:\n",
        "                x[nbr] += alpha * xlast[n] * W[n][nbr][weight]\n",
        "            x[n] += danglesum * dangling_weights[n] + (1.0 - alpha) * p[n]\n",
        "\n",
        "        # Check convergence, l1 norm\n",
        "        err = sum(abs(x[n] - xlast[n]) for n in x)\n",
        "        if err < N * tol:\n",
        "            print('Iteration step: ' + str(iter))\n",
        "            return x\n",
        "\n",
        "    raise NetworkXError('pagerank: power iteration failed to converge in %d iterations.' % max_iter)\n"
      ]
    },
    {
      "cell_type": "code",
      "source": [
        "import networkx as nx\n",
        "import numpy as np\n",
        "\n",
        "# Create the matrix\n",
        "matrix = np.array([[0, 0.5, 1],\n",
        "                   [0.5, 0.5, 0],\n",
        "                   [0.5, 0, 0]])\n",
        "\n",
        "# Create a directed graph\n",
        "G = nx.DiGraph()\n",
        "\n",
        "# Add nodes to the graph\n",
        "num_nodes = matrix.shape[0]\n",
        "G.add_nodes_from(range(num_nodes))\n",
        "\n",
        "# Add edges to the graph based on the matrix values\n",
        "for i in range(num_nodes):\n",
        "    for j in range(num_nodes):\n",
        "        weight = matrix[i][j]\n",
        "        if weight != 0:\n",
        "            G.add_edge(i, j, weight=weight)\n",
        "\n",
        "pagerank(G)"
      ],
      "metadata": {
        "colab": {
          "base_uri": "https://localhost:8080/"
        },
        "id": "pw0U9uNisPK0",
        "outputId": "3661d87d-7008-482b-ca72-ce60b2b668ad"
      },
      "execution_count": null,
      "outputs": [
        {
          "output_type": "stream",
          "name": "stdout",
          "text": [
            "Iteration step: 56\n"
          ]
        },
        {
          "output_type": "execute_result",
          "data": {
            "text/plain": [
              "{0: 0.41907108150769445, 1: 0.29345531199933617, 2: 0.28747360649296905}"
            ]
          },
          "metadata": {},
          "execution_count": 12
        }
      ]
    }
  ]
}